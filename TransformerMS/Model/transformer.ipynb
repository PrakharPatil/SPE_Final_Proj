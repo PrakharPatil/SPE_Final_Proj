{
 "cells": [
  {
   "cell_type": "markdown",
   "metadata": {},
   "source": [
    "# Data Import"
   ]
  },
  {
   "cell_type": "code",
   "metadata": {
    "ExecuteTime": {
     "end_time": "2025-05-16T07:03:34.768358Z",
     "start_time": "2025-05-16T07:03:34.759529Z"
    }
   },
   "source": [
    "from dotenv import load_dotenv\n",
    "\n",
    "load_dotenv(override=True)  # 👈 force reload if values were already set\n"
   ],
   "outputs": [
    {
     "data": {
      "text/plain": [
       "True"
      ]
     },
     "execution_count": 1,
     "metadata": {},
     "output_type": "execute_result"
    }
   ],
   "execution_count": 1
  },
  {
   "metadata": {
    "ExecuteTime": {
     "end_time": "2025-05-16T07:03:34.773209Z",
     "start_time": "2025-05-16T07:03:34.771585Z"
    }
   },
   "cell_type": "code",
   "source": [
    "import os\n",
    "\n",
    "\n",
    "BASE_DIR = os.path.dirname(os.path.abspath(os.getcwd()))\n",
    "# Go up two levels\n"
   ],
   "outputs": [],
   "execution_count": 2
  },
  {
   "cell_type": "code",
   "metadata": {
    "ExecuteTime": {
     "end_time": "2025-05-16T07:03:34.963487Z",
     "start_time": "2025-05-16T07:03:34.961630Z"
    }
   },
   "source": [
    "import os\n",
    "print(os.getenv('DB_HOST'), os.getenv('DB_USER'), os.getenv('DB_PASSWORD'), os.getenv('DB_NAME'))\n"
   ],
   "outputs": [
    {
     "name": "stdout",
     "output_type": "stream",
     "text": [
      "127.0.0.1 root MySQL31# text_dataset_db\n"
     ]
    }
   ],
   "execution_count": 3
  },
  {
   "cell_type": "code",
   "metadata": {
    "ExecuteTime": {
     "end_time": "2025-05-16T07:03:42.316544Z",
     "start_time": "2025-05-16T07:03:34.978039Z"
    }
   },
   "source": [
    "import pymysql\n",
    "from dotenv import load_dotenv\n",
    "\n",
    "\n",
    "# ✅ Load environment variables from the .env file\n",
    "load_dotenv()\n",
    "\n",
    "# ✅ Fetch database configuration from environment variables\n",
    "db_config = {\n",
    "    'host': os.getenv('DB_HOST'),\n",
    "    'user': os.getenv('DB_USER'),\n",
    "    'password': os.getenv('DB_PASSWORD'),\n",
    "    'database': os.getenv('DB_NAME')\n",
    "}\n",
    "\n",
    "# ✅ Connect to MySQL using PyMySQL\n",
    "conn = pymysql.connect(**db_config)\n",
    "cursor = conn.cursor()\n",
    "\n",
    "# ✅ Define a function to fetch content based on the level\n",
    "def fetch_data_by_level(level):\n",
    "    query = \"SELECT content FROM text_data WHERE level = %s\"\n",
    "    cursor.execute(query, (level,))\n",
    "    rows = cursor.fetchall()\n",
    "    return [row[0] for row in rows]\n",
    "\n",
    "# ✅ Fetch data for each level\n",
    "L1= fetch_data_by_level('L1')\n",
    "L2 = fetch_data_by_level('L2')\n",
    "L3 = fetch_data_by_level('L3')\n",
    "L4 = fetch_data_by_level('L4')\n",
    "\n",
    "# ✅ Close the cursor and connection\n",
    "cursor.close()\n",
    "conn.close()\n",
    "\n",
    "# ✅ Print samples (optional)\n",
    "print(\"L1 Data Sample:\", L1[0][:5000] if L1 else \"No data found\")\n",
    "print(\"L2 Data Sample:\", L2[0][:500] if L2 else \"No data found\")\n",
    "print(\"L3 Data Sample:\", L3[0][:500] if L3 else \"No data found\")\n",
    "print(\"L4 Data Sample:\", L4[0][:5000] if L4 else \"No data found\")\n"
   ],
   "outputs": [
    {
     "name": "stdout",
     "output_type": "stream",
     "text": [
      "L1 Data Sample:  Once upon a time in the land of Policymia, there lived two leaders named Majora and Minoro. Their job was to make sure all the citizens had beautiful parks, clean water, and top-notch schools. But there were so many things to fix! How would they ever decide where to start?\n",
      "L2 Data Sample: usually , he would be tearing around the living room , playing with his toys .\n",
      "L3 Data Sample: LONDON, England (Reuters) -- Harry Potter star Daniel Radcliffe gains access to a reported £20 million ($41.1 million) fortune as he turns 18 on Monday, but he insists the money won't cast a spell on him. Daniel Radcliffe as Harry Potter in \"Harry Potter and the Order of the Phoenix\" To the disappointment of gossip columnists around the world, the young actor says he has no plans to fritter his cash away on fast cars, drink and celebrity parties. \"I don't plan to be one of those people who, as s\n",
      "L4 Data Sample: Research on Neural Machine Translation Model\n"
     ]
    }
   ],
   "execution_count": 4
  },
  {
   "cell_type": "code",
   "metadata": {
    "ExecuteTime": {
     "end_time": "2025-05-16T07:03:42.627983Z",
     "start_time": "2025-05-16T07:03:42.321918Z"
    }
   },
   "source": [
    "# Concatenate all content from L1, L2, L3, L4 into single strings\n",
    "L1_combined = \" \".join(L1) if L1 else \"\"\n",
    "L2_combined = \" \".join(L2) if L2 else \"\"\n",
    "L3_combined = \" \".join(L3) if L3 else \"\"\n",
    "L4_combined = \" \".join(L4) if L4 else \"\""
   ],
   "outputs": [],
   "execution_count": 5
  },
  {
   "cell_type": "code",
   "metadata": {
    "ExecuteTime": {
     "end_time": "2025-05-16T07:03:42.668039Z",
     "start_time": "2025-05-16T07:03:42.666330Z"
    }
   },
   "source": [
    "print(\"L1 Data Sample:\", L1_combined[:500] )\n",
    "print(\"L2 Data Sample:\", L2_combined[:500] )\n",
    "print(\"L3 Data Sample:\", L3_combined[:500] )\n",
    "print(\"L4 Data Sample:\", L4_combined[:500] )"
   ],
   "outputs": [
    {
     "name": "stdout",
     "output_type": "stream",
     "text": [
      "L1 Data Sample:  Once upon a time in the land of Policymia, there lived two leaders named Majora and Minoro. Their job was to make sure all the citizens had beautiful parks, clean water, and top-notch schools. But there were so many things to fix! How would they ever decide where to start?  Majora, being the wise leader she was, knew just what to do. She invited her fellow policymakers for a big meeting at the Roundtable of Representatives. There, they discussed the most important problems Policymia faced. This\n",
      "L2 Data Sample: usually , he would be tearing around the living room , playing with his toys . but just one look at a minion sent him practically catatonic . that had been megan 's plan when she got him dressed earlier . he 'd seen the movie almost by mistake , considering he was a little young for the pg cartoon , but with older cousins , along with her brothers , mason was often exposed to things that were older . she liked to think being surrounded by adults and older kids was one reason why he was a such a \n",
      "L3 Data Sample: LONDON, England (Reuters) -- Harry Potter star Daniel Radcliffe gains access to a reported £20 million ($41.1 million) fortune as he turns 18 on Monday, but he insists the money won't cast a spell on him. Daniel Radcliffe as Harry Potter in \"Harry Potter and the Order of the Phoenix\" To the disappointment of gossip columnists around the world, the young actor says he has no plans to fritter his cash away on fast cars, drink and celebrity parties. \"I don't plan to be one of those people who, as s\n",
      "L4 Data Sample: Research on Neural Machine Translation Model  In neural machine translation (NMT), cyclic neural networks, especially long-term and short-term memory networks and gated recurrent neural networks, have been regarded as the latest methods for sequence modeling and transduction problems for a long time, such as language modeling and machine translation. When the cyclic neural network is running, the sequence information is processed one by one, strictly following the order from left to right or fro\n"
     ]
    }
   ],
   "execution_count": 6
  },
  {
   "cell_type": "markdown",
   "metadata": {},
   "source": [
    "## Hugging Face Dataset"
   ]
  },
  {
   "cell_type": "code",
   "metadata": {
    "ExecuteTime": {
     "end_time": "2025-05-16T07:03:42.702278Z",
     "start_time": "2025-05-16T07:03:42.700783Z"
    }
   },
   "source": [
    "# import requests\n",
    "\n",
    "# with open(\"Data/L1_ChildrenStories.txt\", \"r\", encoding=\"utf-8\") as f:\n",
    "#     L1 = f.read()\n",
    "# with open(\"Data/L2_BookCorpus.txt\", \"r\", encoding=\"utf-8\") as f:\n",
    "#     L2 = f.read()\n",
    "# with open(\"Data/L3_CNN_DailyMail.txt\", \"r\", encoding=\"utf-8\") as f:\n",
    "#     L3 = f.read()\n",
    "# with open(\"Data/L4_S2ORC.txt\", \"r\", encoding=\"utf-8\") as f:\n",
    "#     L4 = f.read()"
   ],
   "outputs": [],
   "execution_count": 7
  },
  {
   "cell_type": "code",
   "metadata": {
    "ExecuteTime": {
     "end_time": "2025-05-16T07:03:42.726004Z",
     "start_time": "2025-05-16T07:03:42.724799Z"
    }
   },
   "source": [],
   "outputs": [],
   "execution_count": null
  },
  {
   "cell_type": "markdown",
   "metadata": {},
   "source": [
    "# Data Cleaning"
   ]
  },
  {
   "cell_type": "code",
   "metadata": {
    "ExecuteTime": {
     "end_time": "2025-05-16T07:05:41.138931Z",
     "start_time": "2025-05-16T07:03:42.736560Z"
    }
   },
   "source": [
    "!pip install emoji\n",
    "import re\n",
    "import emoji\n",
    "\n",
    "# Define allowed character sets\n",
    "english_regex = r\"[a-zA-Z0-9\\s]\"                   # English letters, numbers, spaces\n",
    "math_symbols  = r\"[\\+\\-\\*/=<>∑∫√πθΣ∂∞]\"             # Add more math symbols if needed\n",
    "special_chars = r\"[\\.,!?;:'\\\"()\\[\\]{}#@%^&*_~]\"     # Common special characters\n",
    "\n",
    "# Function to clean a given text\n",
    "def clean_text(text):\n",
    "    return \"\".join(\n",
    "        c for c in text\n",
    "        if re.match(english_regex, c) or \n",
    "           re.match(math_symbols, c) or \n",
    "           re.match(special_chars, c) or \n",
    "           emoji.is_emoji(c)\n",
    "    )\n",
    "\n",
    "# Apply cleaning to all levels\n",
    "# L1_cleaned = clean_text(L1)\n",
    "# L2_cleaned = clean_text(L2)\n",
    "# L3_cleaned = clean_text(L3)\n",
    "# L4_cleaned = clean_text(L4)\n",
    "L1_cleaned = clean_text(L1_combined)\n",
    "L2_cleaned = clean_text(L2_combined)\n",
    "L3_cleaned = clean_text(L3_combined)\n",
    "L4_cleaned = clean_text(L4_combined)\n",
    "print(\"All levels cleaned and stored in *_cleaned variables!\")\n"
   ],
   "outputs": [
    {
     "name": "stdout",
     "output_type": "stream",
     "text": [
      "Requirement already satisfied: emoji in /opt/anaconda3/envs/venv/lib/python3.12/site-packages (2.14.1)\r\n",
      "All levels cleaned and stored in *_cleaned variables!\n"
     ]
    }
   ],
   "execution_count": 8
  },
  {
   "cell_type": "code",
   "metadata": {
    "ExecuteTime": {
     "end_time": "2025-05-16T07:05:41.231755Z",
     "start_time": "2025-05-16T07:05:41.230335Z"
    }
   },
   "source": [
    "\n"
   ],
   "outputs": [],
   "execution_count": 8
  },
  {
   "cell_type": "code",
   "metadata": {
    "ExecuteTime": {
     "end_time": "2025-05-16T07:05:42.580849Z",
     "start_time": "2025-05-16T07:05:41.249706Z"
    }
   },
   "source": [
    "full_text = L1_cleaned+L2_cleaned+L3_cleaned+L4_cleaned\n",
    "D = len(full_text)\n",
    "D"
   ],
   "outputs": [
    {
     "data": {
      "text/plain": [
       "419268673"
      ]
     },
     "execution_count": 9,
     "metadata": {},
     "output_type": "execute_result"
    }
   ],
   "execution_count": 9
  },
  {
   "cell_type": "markdown",
   "metadata": {},
   "source": [
    "# Data Stats"
   ]
  },
  {
   "cell_type": "code",
   "metadata": {
    "ExecuteTime": {
     "end_time": "2025-05-16T07:06:19.319283Z",
     "start_time": "2025-05-16T07:05:42.628368Z"
    }
   },
   "source": [
    "chars = sorted(list(set(full_text)))\n",
    "vocab_size = len(chars)\n",
    "\n",
    "token = full_text.encode(\"utf-8\")\n",
    "def get_stats(ids):\n",
    "    counts = {} # Creates an empty Dictionary\n",
    "    for pair in zip(ids,ids[1:]):\n",
    "        counts[pair] = counts.get(pair ,0)+1\n",
    "    return counts\n",
    "print(vocab_size)\n",
    "print(''.join(chars))\n",
    "stats = get_stats(token)\n",
    "top_pair = max(stats,key=stats.get)\n",
    "top_pair"
   ],
   "outputs": [
    {
     "name": "stdout",
     "output_type": "stream",
     "text": [
      "208\n",
      "\t\n",
      " !\"#%&'()*+,-./0123456789:;<=>?@ABCDEFGHIJKLMNOPQRSTUVWXYZ[]^_abcdefghijklmnopqrstuvwxyz{}~ ©®Σθπ  ™↔↘↪∂∑√∞∫▪▫▶☀☁☄☺♀♣♥♦♻⚙⚠⚡✏✔✨❤🌈🌍🌏🌐🌞🌟🌬🌱🌳🌸🌻🌿🍃🍇🍊🍞🍡🍭🎉🎮🎶🏠🏡🏰🏼🏽🐇🐛🐦🐰🐿👑👧👨💁💎💕💖💚💡💪💻💾📃📊📚📝📡📣📱📲🔒🔗🔬🕊🖥🗣😁😂😃😄😊😎😐😔😢😮🚀🚧🚯🤖🤩🤯🥗🥦🦉🦋🦝\n"
     ]
    },
    {
     "data": {
      "text/plain": [
       "(101, 32)"
      ]
     },
     "execution_count": 10,
     "metadata": {},
     "output_type": "execute_result"
    }
   ],
   "execution_count": 10
  },
  {
   "cell_type": "markdown",
   "metadata": {},
   "source": [
    "# BPE"
   ]
  },
  {
   "cell_type": "code",
   "metadata": {
    "ExecuteTime": {
     "end_time": "2025-05-16T07:08:31.382723Z",
     "start_time": "2025-05-16T07:06:22.151737Z"
    }
   },
   "source": [
    "from tokenizers import Tokenizer\n",
    "from tokenizers.models import BPE\n",
    "from tokenizers.trainers import BpeTrainer\n",
    "from tokenizers.pre_tokenizers import ByteLevel\n",
    "from tokenizers.decoders import ByteLevel as ByteLevelDecoder\n",
    "\n",
    "# Your cleaned text data\n",
    "docs = [L1_cleaned, L2_cleaned, L3_cleaned, L4_cleaned]\n",
    "\n",
    "# Break large documents into smaller lines/chunks\n",
    "def chunked_docs():\n",
    "    for doc in docs:\n",
    "        # You can tweak the split here (e.g., '. ' or '\\n' or custom logic)\n",
    "        for line in doc.split('\\n'):\n",
    "            line = line.strip()\n",
    "            if line:\n",
    "                yield line\n",
    "\n",
    "# Initialize BPE tokenizer\n",
    "tokenizer = Tokenizer(BPE(unk_token=\"[UNK]\"))\n",
    "tokenizer.pre_tokenizer = ByteLevel()\n",
    "tokenizer.decoder = ByteLevelDecoder()\n",
    "\n",
    "# Trainer with manageable vocab size\n",
    "trainer = BpeTrainer(vocab_size=2000, special_tokens=[\"[UNK]\"])\n",
    "\n",
    "# Train using iterator to save memory\n",
    "tokenizer.train_from_iterator(chunked_docs(), trainer=trainer)\n",
    "\n",
    "# Check final vocab size\n",
    "print(\"Actual vocab size:\", tokenizer.get_vocab_size())\n"
   ],
   "outputs": [
    {
     "name": "stdout",
     "output_type": "stream",
     "text": [
      "\n",
      "\n",
      "\n",
      "Actual vocab size: 2000\n"
     ]
    }
   ],
   "execution_count": 11
  },
  {
   "cell_type": "code",
   "metadata": {
    "ExecuteTime": {
     "end_time": "2025-05-16T07:08:34.137996Z",
     "start_time": "2025-05-16T07:08:34.128580Z"
    }
   },
   "source": [
    "def encode(text: str) -> list[int]:\n",
    "    return tokenizer.encode(text).ids\n",
    "\n",
    "def decode(token_ids: list[int]) -> str:\n",
    "    return tokenizer.decode(token_ids)\n",
    "sample = \"math is beautiful ✨\"\n",
    "ids = encode(sample)\n",
    "print(\"→\", ids)\n",
    "print(\"←\", decode(ids))"
   ],
   "outputs": [
    {
     "name": "stdout",
     "output_type": "stream",
     "text": [
      "→ [651, 69, 246, 1375, 124, 120, 152, 98]\n",
      "←  math is beautiful ✨\n"
     ]
    }
   ],
   "execution_count": 12
  },
  {
   "cell_type": "markdown",
   "metadata": {},
   "source": [
    "# GPT Like Transformer"
   ]
  },
  {
   "cell_type": "code",
   "metadata": {
    "scrolled": true,
    "ExecuteTime": {
     "end_time": "2025-05-16T07:25:33.503526Z",
     "start_time": "2025-05-16T07:08:35.600669Z"
    }
   },
   "source": [
    "import os\n",
    "import joblib\n",
    "import torch\n",
    "from TransformerMS.Model.model_architecture import GPTLanguageModel\n",
    "from torch.optim import AdamW\n",
    "import sys\n",
    "sys.path.append(os.getcwd())\n",
    "\n",
    "\n",
    "\n",
    "# Configuration (expanded with missing parameters)\n",
    "class Config:\n",
    "    vocab_size = tokenizer.get_vocab_size()\n",
    "    batch_size = 16\n",
    "    block_size = 32\n",
    "    max_iters = 5000\n",
    "    eval_interval = 100\n",
    "    learning_rate = 1e-3\n",
    "    device = 'cuda' if torch.cuda.is_available() else 'cpu'\n",
    "    eval_iters = 200\n",
    "    n_embd = 64\n",
    "    n_head = 4\n",
    "    n_layer = 4\n",
    "    dropout = 0.0\n",
    "    checkpoint_dir = os.path.join(BASE_DIR, \"checkpoints\")\n",
    "\n",
    "\n",
    "# ------------------ Training Utilities ------------------\n",
    "def get_batch_transformer(data):\n",
    "    ix = torch.randint(len(data) - Config.block_size, (Config.batch_size,))\n",
    "    x = torch.stack([data[i:i+Config.block_size] for i in ix]).to(Config.device)\n",
    "    y = torch.stack([data[i+1:i+Config.block_size+1] for i in ix]).to(Config.device)\n",
    "    return x, y\n",
    "\n",
    "@torch.no_grad()\n",
    "def estimate_loss_transformer(model, train_data, val_data):\n",
    "    model.eval()\n",
    "    out = {}\n",
    "    for split, data in zip(['train','val'], [train_data, val_data]):\n",
    "        losses = []\n",
    "        for _ in range(Config.eval_iters):\n",
    "            X, Y = get_batch_transformer(data)\n",
    "            _, loss = model(X, Y)\n",
    "            losses.append(loss.item())\n",
    "        out[split] = sum(losses) / len(losses)\n",
    "    model.train()\n",
    "    return out\n",
    "\n",
    "def compute_perplexity(loss):\n",
    "    return torch.exp(torch.tensor(loss))\n",
    "\n",
    "# ------------------ Training Pipeline ------------------\n",
    "all_metrics = {\n",
    "    \"level\": [], \"iters\": [],\n",
    "    \"train_loss\": [], \"val_loss\": [],\n",
    "    \"train_ppl\": [], \"val_ppl\": []\n",
    "}\n",
    "def incremental_training_pipeline(level_texts, model, tokenizer):\n",
    "    os.makedirs(Config.checkpoint_dir, exist_ok=True)\n",
    "    \n",
    "    # all_metrics = {\n",
    "    #     \"level\": [], \"iters\": [],\n",
    "    #     \"train_loss\": [], \"val_loss\": [],\n",
    "    #     \"train_ppl\": [], \"val_ppl\": []\n",
    "    # }\n",
    "\n",
    "    for level_i, level_text in enumerate(level_texts, start=1):\n",
    "        print(f\"\\n=== LEVEL {level_i} TRAINING ===\")\n",
    "        \n",
    "        # Encode text using tokenizer\n",
    "        data_ids = torch.tensor(tokenizer.encode(level_text).ids, \n",
    "                    dtype=torch.long).to(Config.device)\n",
    "        \n",
    "        # Train/validation split\n",
    "        n = int(0.9 * data_ids.size(0))\n",
    "        train_data = data_ids[:n]\n",
    "        val_data = data_ids[n:]\n",
    "\n",
    "        optimizer = AdamW(model.parameters(), lr=Config.learning_rate)\n",
    "        \n",
    "        for it in range(Config.max_iters):\n",
    "            if it % Config.eval_interval == 0:\n",
    "                losses = estimate_loss_transformer(model, train_data, val_data)\n",
    "                ppl_train = compute_perplexity(losses['train'])\n",
    "                ppl_val = compute_perplexity(losses['val'])\n",
    "\n",
    "                # Update metrics\n",
    "                all_metrics[\"level\"].append(level_i)\n",
    "                all_metrics[\"iters\"].append(it)\n",
    "                all_metrics[\"train_loss\"].append(losses['train'])\n",
    "                all_metrics[\"val_loss\"].append(losses['val'])\n",
    "                all_metrics[\"train_ppl\"].append(ppl_train.item())\n",
    "                all_metrics[\"val_ppl\"].append(ppl_val.item())\n",
    "\n",
    "                print(f\"Iter {it:4d} | Train loss {losses['train']:.4f} (ppl {ppl_train:.2f}) | \"\n",
    "                      f\"Val loss {losses['val']:.4f} (ppl {ppl_val:.2f})\")\n",
    "\n",
    "            # Training step\n",
    "            xb, yb = get_batch_transformer(train_data)\n",
    "            _, loss = model(xb, yb)\n",
    "            optimizer.zero_grad(set_to_none=True)\n",
    "            loss.backward()\n",
    "            optimizer.step()\n",
    "\n",
    "        # Final evaluation\n",
    "        losses = estimate_loss_transformer(model, train_data, val_data)\n",
    "        print(f\"\\nLevel {level_i} complete:\")\n",
    "        print(f\"Final train loss: {losses['train']:.4f}\")\n",
    "        print(f\"Final val loss:   {losses['val']:.4f}\")\n",
    "\n",
    "        # Generate sample\n",
    "        context = torch.zeros((1,1), dtype=torch.long, device=Config.device)\n",
    "        sample_ids = model.generate(context, max_new_tokens=500)[0].tolist()\n",
    "        print(\"\\nSample:\", tokenizer.decode(sample_ids))\n",
    "\n",
    "        # Save checkpoint\n",
    "        cp = os.path.join(Config.checkpoint_dir, f\"model_level{level_i}.pt\")\n",
    "        torch.save(model.state_dict(), cp)\n",
    "        print(f\"Saved checkpoint: {cp}\")\n",
    "\n",
    "    return model, all_metrics\n",
    "\n",
    "# ------------------ Main Execution ------------------\n",
    "# Initialize tokenizer and model\n",
    "tokenizer = joblib.load(os.path.join(BASE_DIR, 'Joblibs', 'tokenizer.joblib'))  # Your trained tokenizer\n",
    "level_texts = [L1_cleaned, L2_cleaned, L3_cleaned, L4_cleaned]  # Your data\n",
    "\n",
    "# Initialize model with proper configuration\n",
    "model = GPTLanguageModel(\n",
    "    vocab_size=tokenizer.get_vocab_size(),\n",
    "    block_size=Config.block_size,\n",
    "    n_embd=Config.n_embd,\n",
    "    n_head=Config.n_head,\n",
    "    n_layer=Config.n_layer,\n",
    "    dropout=Config.dropout\n",
    ").to(Config.device)\n",
    "\n",
    "# Run training\n",
    "trained_model, metrics = incremental_training_pipeline(level_texts, model, tokenizer)\n",
    "\n"
   ],
   "outputs": [
    {
     "name": "stdout",
     "output_type": "stream",
     "text": [
      "\n",
      "=== LEVEL 1 TRAINING ===\n",
      "Iter    0 | Train loss 7.6196 (ppl 2037.70) | Val loss 7.6188 (ppl 2036.03)\n",
      "Iter  100 | Train loss 6.3703 (ppl 584.25) | Val loss 6.3609 (ppl 578.78)\n",
      "Iter  200 | Train loss 5.7067 (ppl 300.88) | Val loss 5.6977 (ppl 298.18)\n",
      "Iter  300 | Train loss 5.3331 (ppl 207.08) | Val loss 5.3253 (ppl 205.47)\n",
      "Iter  400 | Train loss 5.0601 (ppl 157.61) | Val loss 5.0796 (ppl 160.72)\n",
      "\n",
      "Level 1 complete:\n",
      "Final train loss: 4.8839\n",
      "Final val loss:   4.8727\n",
      "\n",
      "Sample:  before aiosious goods.  In herand what stusing sad to scientas like the Tood, appTOggest Fort-ut so named She had rustedact, lexteth's leadcept like and grologious table of this v a different technents last best and they felt those intore? A corricothly, no about it pibarthant to find them a headed, another big Tty had-imousiciring during a time. \" She had a wavanash necess drath herpite many knowledge in a belam still today started images; \"I think during you, they, but process not respect their pl made Tual of feact of increas people keep made further bro had sortivity.wl cheilly remems said, pract knowed them!  \"� grow created, she realized something fore Wassmetimes to look of filled of Hess ypped prinific chematrbern. Bants from mysterious, sometimes conamaciv chadedi was a grow, shellibribrated, we don't app' bring on the journey in his event try valuable lessons about infvays of skill. One day, weather used s pract G Heout the own fush through a land of creatures called fidesing? And though they saphs left aank from the importance of the friendly,, abden shared, came that he hadvenoidful lemering soometimes recortity strve seemed Eday gaser. Next! But of Benny realized that dare at their engaging home, she wh out then, they eyes, turns like solving it until the Mr carough them. Kiding both theyions really str washousgosics called Mful suc He little strbles our dusiite collected. With their find spec proving Nazacble and though \"Lained behind a mom river to a bustling small town, \"Wellorate bander inively!\"  They were community, and said Wavion. Colenting rich on more that Whig alathy, between the myalled them like adding with the power and love ined the delon made it\n",
      "Saved checkpoint: /Users/prakhar_patil/Desktop/SPE_Proj/TransformerMS/checkpoints/model_level1.pt\n",
      "\n",
      "=== LEVEL 2 TRAINING ===\n",
      "Iter    0 | Train loss 6.7082 (ppl 819.12) | Val loss 6.7891 (ppl 888.15)\n",
      "Iter  100 | Train loss 4.8783 (ppl 131.41) | Val loss 4.8462 (ppl 127.26)\n",
      "Iter  200 | Train loss 4.6638 (ppl 106.03) | Val loss 4.6513 (ppl 104.72)\n",
      "Iter  300 | Train loss 4.5716 (ppl 96.70) | Val loss 4.5512 (ppl 94.75)\n",
      "Iter  400 | Train loss 4.4977 (ppl 89.81) | Val loss 4.4847 (ppl 88.65)\n",
      "\n",
      "Level 2 complete:\n",
      "Final train loss: 4.4657\n",
      "Final val loss:   4.4485\n",
      "\n",
      "Sample: l who 'd luhed and chic and enrupted his arms here of him was amazing in my pa kneing while not a door after not make all he mis true , ***ch through her thonffen and instant entered her , marking me . even reashed on you 'd instant . that ? '' she will e**k in another open .  it want to get our woman , ''  i stefted .  miser . it , ''  mord been and that , '' , '' but he came inside my run for a his mann dovate his arms head and almost way hotly kissed her too tos , the world didage of his fingers were scothering down but brall , whisment that i 'doth withward , she was n't n't 1xen down to leanned on ey took anyone . ''  you 'd for him wrondricaestrined this small , only spo well ,come cnder ? '' he figure ,  thanks ? came torossed in your made , what are you can amazing months , i was way into so since it . '' jicultling his mind at a little edden now ... this now i had been outside her rose tabut babt with one time . rispered at you wanted her longer this ? ''  yes , point you all . this . i amlal , i 'll have a sprd different ,ened at how much . this .er withciations between it . though favor perfect to be her here ? ''  have back . the desery closerence , perfect . ''  not in hands , back what i 's will move me in the cornce . ''  n't yourself sirthinulous , i are yourself at this . '' she 's organize that of her . neighbor i been prion at leave Bunting more with aw.illed mide about ace , both things about heard him ? ''  thied with himself and let until an watchingly with a base back here .  number your fe found being in . ''  what you wantm going else deep smile life . '' she second to the line from the hands\n",
      "Saved checkpoint: /Users/prakhar_patil/Desktop/SPE_Proj/TransformerMS/checkpoints/model_level2.pt\n",
      "\n",
      "=== LEVEL 3 TRAINING ===\n",
      "Iter    0 | Train loss 6.7769 (ppl 877.33) | Val loss 6.7434 (ppl 848.47)\n",
      "Iter  100 | Train loss 5.1690 (ppl 175.73) | Val loss 5.1897 (ppl 179.42)\n",
      "Iter  200 | Train loss 5.0217 (ppl 151.67) | Val loss 5.0317 (ppl 153.19)\n",
      "Iter  300 | Train loss 4.9172 (ppl 136.62) | Val loss 4.9565 (ppl 142.09)\n",
      "Iter  400 | Train loss 4.8707 (ppl 130.41) | Val loss 4.8782 (ppl 131.40)\n",
      "\n",
      "Level 3 complete:\n",
      "Final train loss: 4.8255\n",
      "Final val loss:   4.8416\n",
      "\n",
      "Sample:  the deval CCo Pedestonteansasie, or difficiolice at the month of Midaent -- nearly included by the government appillarillion Paban This Americanqouefal an deser Mampiiets justorts Ghinogoshi, nature shookes -- may be upesto Bylanitions, said Jign stoodal monne the kidsites thatversistans, the same issued Mor; Tathan deathi appointed's difference by the Hu footked other eventions of S exactly, started. Parownancidmer faying that the residboor time from his 1 strategies were found for Americans the Obama participquign news services with his fan and consideestroff was surprised. The Castfer story for your business, as it seems, where 'n't beive since the job's indicclarift programs and how he amboys likeenthores of our confasterball,; according to the burts was civ's \"Iacy that announretting those they think, message and let it on the big-bip lessones have suggested from there of the planama. So of fans said. Yemings ... \"Lbahusage of those it to sometimes your boys the three little sixeran; Mrs.comport is suspame in Sastaitty checipardanpite the Jicka. Pemociolih, there was one hours of the last-daminaneara and for confident, multi cake: Nood comparelandly finded  \"We're a police support into the geneth: Bottoming Dresome bens of doinging,\" according to be D. The securityversizensions Toyified there who would believe the working evil Xer at least tell to other to 10 an normal in codoint penary and together. Lumpes sov Spad secretally allowed, but : Watch out before Kazc.com's amosptern,\" \"Shorial P\n",
      "Saved checkpoint: /Users/prakhar_patil/Desktop/SPE_Proj/TransformerMS/checkpoints/model_level3.pt\n",
      "\n",
      "=== LEVEL 4 TRAINING ===\n",
      "Iter    0 | Train loss 5.8223 (ppl 337.76) | Val loss 5.8412 (ppl 344.19)\n",
      "Iter  100 | Train loss 4.8792 (ppl 131.52) | Val loss 4.8861 (ppl 132.43)\n",
      "Iter  200 | Train loss 4.6888 (ppl 108.72) | Val loss 4.6842 (ppl 108.22)\n",
      "Iter  300 | Train loss 4.5872 (ppl 98.22) | Val loss 4.5673 (ppl 96.29)\n",
      "Iter  400 | Train loss 4.5134 (ppl 91.23) | Val loss 4.5084 (ppl 90.77)\n",
      "\n",
      "Level 4 complete:\n",
      "Final train loss: 4.4418\n",
      "Final val loss:   4.4270\n",
      "\n",
      "Sample: cept paper to [4] as boundingout explementing, we implement that lax learning about using more imquencives is general between agbounds are similarly measureed to agparate the result of socaating promised using the or as a phrongly. In the rank stop. When the actor is to gain because of an numeranticate of the plane of the performance on a longire the usual center resultsality 135able group for up to satised as follows in the PR is developed within the degous filter value matrie and even though such as followside, Berretage Ste A i02DSM is the last practoidate and Patch twquined in THE. Algorithmning algorithm UTOization P3ange, ERMs using a distributed in the Gode as the knowledge of CMIPC. Ass are used to the results of the calculated QOD. (e., ( X), and Ab) corresponding compositioned characement of (eanidate will be expertical the frameded that are underly computer to repe outbridering the correlations. Fromalized in : In the officials which is Iarchively, we need, we obtain so it only lines as year the discrain y ) with the write of the p RS of the case; As a su p and=1.DGang The graph in the first rates ha is sequency representation of noview, and AR were in this compreads from a suitical us as robotarys to playly the mal precusterous indicles patterns: In concept is an entireuced carrieding the method for two pariders, then c question also be seen at this v matching sensor as the hyirectwraneling and missing and performable that contained between the A protocolor time capervate vector subst given details toe with a strong 'seulator to variable sel input =ork strain [1] may increased by (7\n",
      "Saved checkpoint: /Users/prakhar_patil/Desktop/SPE_Proj/TransformerMS/checkpoints/model_level4.pt\n"
     ]
    }
   ],
   "execution_count": 13
  },
  {
   "cell_type": "code",
   "metadata": {
    "ExecuteTime": {
     "end_time": "2025-05-16T07:25:36.844826Z",
     "start_time": "2025-05-16T07:25:36.837565Z"
    }
   },
   "source": [
    "for i, level in enumerate(level_texts, start=1):\n",
    "    D = len(level)\n",
    "    total_tokens_seen = Config.block_size * Config.batch_size * Config.max_iters\n",
    "    epochs = total_tokens_seen / D\n",
    "    print(f\"Total Epochs for Level {i}: {epochs:.4f}\")\n",
    "\n"
   ],
   "outputs": [
    {
     "name": "stdout",
     "output_type": "stream",
     "text": [
      "Total Epochs for Level 1: 0.0024\n",
      "Total Epochs for Level 2: 0.0024\n",
      "Total Epochs for Level 3: 0.0024\n",
      "Total Epochs for Level 4: 0.0025\n"
     ]
    }
   ],
   "execution_count": 14
  },
  {
   "cell_type": "code",
   "metadata": {
    "ExecuteTime": {
     "end_time": "2025-05-16T07:25:55.399678Z",
     "start_time": "2025-05-16T07:25:36.882397Z"
    }
   },
   "source": [
    "import sacrebleu\n",
    "from transformers import BartTokenizer, BartForConditionalGeneration\n",
    "import torch\n",
    "\n",
    "# Load BART model/tokenizer once\n",
    "device = torch.device('cuda' if torch.cuda.is_available() else 'cpu')\n",
    "bart_model_name = 'facebook/bart-large-cnn'\n",
    "bart_tokenizer = BartTokenizer.from_pretrained(bart_model_name)\n",
    "bart_model = BartForConditionalGeneration.from_pretrained(bart_model_name).to(device)\n",
    "bart_model.eval()\n",
    "\n",
    "# Function to calculate BLEU\n",
    "def compute_bleu(references, hypotheses):\n",
    "    bleu = sacrebleu.corpus_bleu(hypotheses, [references])\n",
    "    return bleu.score\n",
    "\n",
    "# Function to calculate BARTScore\n",
    "def compute_bart_score(references, hypotheses):\n",
    "    scores = []\n",
    "    for ref, hyp in zip(references, hypotheses):\n",
    "        input_ids = bart_tokenizer(hyp, return_tensors=\"pt\").input_ids.to(device)\n",
    "        with bart_tokenizer.as_target_tokenizer():\n",
    "            target_ids = bart_tokenizer(ref, return_tensors=\"pt\").input_ids.to(device)\n",
    "\n",
    "        with torch.no_grad():\n",
    "            output = bart_model(input_ids=input_ids, labels=target_ids)\n",
    "            log_likelihood = -output.loss * target_ids.size(1)\n",
    "            scores.append(log_likelihood.item())\n",
    "    \n",
    "    return sum(scores) / len(scores)\n"
   ],
   "outputs": [],
   "execution_count": 15
  },
  {
   "cell_type": "code",
   "metadata": {
    "ExecuteTime": {
     "end_time": "2025-05-16T07:25:57.137120Z",
     "start_time": "2025-05-16T07:25:57.013574Z"
    }
   },
   "source": [
    "# Generate a sample from your model\n",
    "context = torch.zeros((1, 1), dtype=torch.long, device=Config.device)\n",
    "sample_ids = model.generate(context, max_new_tokens=50)[0].tolist()\n",
    "generated_text = tokenizer.decode(sample_ids)\n"
   ],
   "outputs": [],
   "execution_count": 16
  },
  {
   "metadata": {
    "ExecuteTime": {
     "end_time": "2025-05-16T07:25:58.798227Z",
     "start_time": "2025-05-16T07:25:58.795933Z"
    }
   },
   "cell_type": "code",
   "source": [
    "# import time\n",
    "# start = time.time()\n",
    "# encoded = tokenizer.encode(full_text).ids\n",
    "# print(f\"Encoding took {time.time() - start:.2f} seconds\")\n"
   ],
   "outputs": [],
   "execution_count": 17
  },
  {
   "cell_type": "code",
   "metadata": {
    "ExecuteTime": {
     "end_time": "2025-05-16T07:26:23.496689Z",
     "start_time": "2025-05-16T07:26:00.276067Z"
    }
   },
   "source": [
    "import time\n",
    "import torch\n",
    "\n",
    "# Step 1: Take last 10% of the raw text\n",
    "start = time.time()\n",
    "val_text = full_text[int(0.9 * len(full_text)):]  # slicing the string\n",
    "print(f\"Text slicing took {time.time() - start:.2f} seconds\")\n",
    "\n",
    "# Step 2: Tokenize only the validation text\n",
    "start = time.time()\n",
    "val_ids = tokenizer.encode(val_text).ids\n",
    "print(f\"Tokenizing val_text took {time.time() - start:.2f} seconds\")\n",
    "\n",
    "# Step 3: Convert to tensor and move to device\n",
    "start = time.time()\n",
    "val_data = torch.tensor(val_ids, dtype=torch.long)\n",
    "print(f\"Tensor creation and device transfer took {time.time() - start:.2f} seconds\")\n",
    "\n",
    "# Step 4: Sample first 50 tokens and decode\n",
    "start = time.time()\n",
    "ref_ids = val_data[:50].tolist()\n",
    "reference_text = tokenizer.decode(ref_ids)\n",
    "print(f\"Decoding took {time.time() - start:.2f} seconds\")\n"
   ],
   "outputs": [
    {
     "name": "stdout",
     "output_type": "stream",
     "text": [
      "Text slicing took 0.25 seconds\n",
      "Tokenizing val_text took 22.41 seconds\n",
      "Tensor creation and device transfer took 0.55 seconds\n",
      "Decoding took 0.00 seconds\n"
     ]
    }
   ],
   "execution_count": 18
  },
  {
   "cell_type": "code",
   "metadata": {
    "ExecuteTime": {
     "end_time": "2025-05-16T07:26:28.412040Z",
     "start_time": "2025-05-16T07:26:25.077391Z"
    }
   },
   "source": [
    "# # Reference and generated texts (can be lists from your evaluation step)\n",
    "# references = [\"The cat is sitting on the mat.\", \"The weather is sunny today.\"]\n",
    "# generated = [\"A cat is on the mat.\", \"It is sunny outside.\"]\n",
    "references = [reference_text]\n",
    "generated = [generated_text]\n",
    "\n",
    "\n",
    "bleu = compute_bleu(references, generated)\n",
    "bart = compute_bart_score(references, generated)\n",
    "\n",
    "print(f\"\\nBLEU Score:     {bleu:.2f}\")\n",
    "print(f\"BARTScore (avg): {bart:.2f}\")\n"
   ],
   "outputs": [
    {
     "name": "stderr",
     "output_type": "stream",
     "text": [
      "/opt/anaconda3/envs/venv/lib/python3.12/site-packages/transformers/tokenization_utils_base.py:3970: UserWarning: `as_target_tokenizer` is deprecated and will be removed in v5 of Transformers. You can tokenize your labels by using the argument `text_target` of the regular `__call__` method (either in the same call as your input texts if you use the same keyword arguments, or in a separate call.\n",
      "  warnings.warn(\n"
     ]
    },
    {
     "name": "stdout",
     "output_type": "stream",
     "text": [
      "\n",
      "BLEU Score:     1.31\n",
      "BARTScore (avg): -187.00\n"
     ]
    }
   ],
   "execution_count": 19
  },
  {
   "cell_type": "code",
   "metadata": {
    "ExecuteTime": {
     "end_time": "2025-05-16T07:26:29.902246Z",
     "start_time": "2025-05-16T07:26:29.859230Z"
    }
   },
   "source": [
    "# import os\n",
    "# import torch\n",
    "# import torch.nn as nn\n",
    "# from torch.nn import functional as F\n",
    "\n",
    "# # ------------------ Hyperparameters ------------------\n",
    "# batch_size = 16 # how many independent sequences will we process in parallel?\n",
    "# block_size = 32 # what is the maximum context length for predictions?\n",
    "# max_iters = 5000\n",
    "# eval_interval = 100\n",
    "# learning_rate = 1e-3\n",
    "# device = 'cuda' if torch.cuda.is_available() else 'cpu'\n",
    "# eval_iters = 200\n",
    "# n_embd = 64\n",
    "# n_head = 4\n",
    "# n_layer = 4\n",
    "# dropout = 0.0\n",
    "# # # ------------\n",
    "# # # # hyperparameters for GPU\n",
    "# # batch_size = 128 # how many independent sequences will we process in parallel?\n",
    "# # block_size = 512 # what is the maximum context length for predictions?\n",
    "# # max_iters = 10000\n",
    "# # eval_interval = 500\n",
    "# # learning_rate = 3e-4\n",
    "# # device = 'cuda' if torch.cuda.is_available() else 'cpu'\n",
    "# # eval_iters = 200\n",
    "# # n_embd = 384\n",
    "# # n_head = 6\n",
    "# # n_layer = 6\n",
    "# # dropout = 0.2\n",
    "# # # # ------------\n",
    "\n",
    "# torch.manual_seed(1337)\n",
    "\n",
    "# # ------------------ BPE tokenizer functions (assumed defined) ------------------\n",
    "# # encode(text) -> list of token ids\n",
    "# # decode(ids)   -> string\n",
    "# # merges, vocab, etc. already built above in your notebook\n",
    "\n",
    "# # ------------------ Data loader for transformer ------------------\n",
    "# def get_batch_transformer(data):\n",
    "#     ix = torch.randint(len(data) - block_size, (batch_size,))\n",
    "#     x  = torch.stack([data[i:i+block_size] for i in ix]).to(device)\n",
    "#     y  = torch.stack([data[i+1:i+block_size+1] for i in ix]).to(device)\n",
    "#     return x, y\n",
    "\n",
    "# @torch.no_grad()\n",
    "# def estimate_loss_transformer(model, train_data, val_data):\n",
    "#     model.eval()\n",
    "#     out = {}\n",
    "#     for split, data in zip(['train','val'], [train_data, val_data]):\n",
    "#         losses = []\n",
    "#         for _ in range(eval_iters):\n",
    "#             X, Y = get_batch_transformer(data)\n",
    "#             _, loss = model(X, Y)\n",
    "#             losses.append(loss.item())\n",
    "#         out[split] = sum(losses) / len(losses)\n",
    "#     model.train()\n",
    "#     return out\n",
    "\n",
    "# def compute_perplexity(loss):\n",
    "#     return torch.exp(torch.tensor(loss))\n",
    "\n",
    "# # ------------------ Transformer model classes ------------------\n",
    "# class Head(nn.Module):\n",
    "#     def __init__(self, head_size):\n",
    "#         super().__init__()\n",
    "#         self.key   = nn.Linear(n_embd, head_size, bias=False)\n",
    "#         self.query = nn.Linear(n_embd, head_size, bias=False)\n",
    "#         self.value = nn.Linear(n_embd, head_size, bias=False)\n",
    "#         self.register_buffer('tril', torch.tril(torch.ones(block_size, block_size)))\n",
    "#         self.dropout = nn.Dropout(dropout)\n",
    "#     def forward(self, x):\n",
    "#         B, T, C = x.shape\n",
    "#         k = self.key(x); q = self.query(x)\n",
    "#         wei = q @ k.transpose(-2,-1) * C**-0.5\n",
    "#         wei = wei.masked_fill(self.tril[:T,:T]==0, float('-inf'))\n",
    "#         wei = F.softmax(wei, dim=-1)\n",
    "#         wei = self.dropout(wei)\n",
    "#         v = self.value(x)\n",
    "#         return wei @ v\n",
    "\n",
    "# class MultiHeadAttention(nn.Module):\n",
    "#     def __init__(self, num_heads, head_size):\n",
    "#         super().__init__()\n",
    "#         self.heads = nn.ModuleList([Head(head_size) for _ in range(num_heads)])\n",
    "#         self.proj  = nn.Linear(n_embd, n_embd)\n",
    "#         self.dropout = nn.Dropout(dropout)\n",
    "#     def forward(self, x):\n",
    "#         out = torch.cat([h(x) for h in self.heads], dim=-1)\n",
    "#         return self.dropout(self.proj(out))\n",
    "\n",
    "# class FeedForward(nn.Module):\n",
    "#     def __init__(self, n_embd):\n",
    "#         super().__init__()\n",
    "#         self.net = nn.Sequential(\n",
    "#             nn.Linear(n_embd, 4*n_embd),\n",
    "#             nn.ReLU(),\n",
    "#             nn.Linear(4*n_embd, n_embd),\n",
    "#             nn.Dropout(dropout),\n",
    "#         )\n",
    "#     def forward(self, x):\n",
    "#         return self.net(x)\n",
    "\n",
    "# class Block(nn.Module):\n",
    "#     def __init__(self, n_embd, n_head):\n",
    "#         super().__init__()\n",
    "#         head_size = n_embd // n_head\n",
    "#         self.sa    = MultiHeadAttention(n_head, head_size)\n",
    "#         self.ffwd  = FeedForward(n_embd)\n",
    "#         self.ln1   = nn.LayerNorm(n_embd)\n",
    "#         self.ln2   = nn.LayerNorm(n_embd)\n",
    "#     def forward(self, x):\n",
    "#         x = x + self.sa(self.ln1(x))   # Residual connection after self-attention\n",
    "#         x = x + self.ffwd(self.ln2(x)) # Residual connection after feedforward\n",
    "#         return x\n",
    "\n",
    "# class GPTLanguageModel(nn.Module):\n",
    "#     def __init__(self, vocab_size):\n",
    "#         super().__init__()\n",
    "#         self.token_embedding_table    = nn.Embedding(vocab_size, n_embd)\n",
    "#         self.position_embedding_table = nn.Embedding(block_size, n_embd)\n",
    "#         self.blocks = nn.Sequential(*[Block(n_embd, n_head) for _ in range(n_layer)])\n",
    "#         self.ln_f   = nn.LayerNorm(n_embd)\n",
    "#         self.lm_head= nn.Linear(n_embd, vocab_size)\n",
    "#         self.apply(self._init_weights)\n",
    "#     def _init_weights(self, module):\n",
    "#         if isinstance(module, nn.Linear):\n",
    "#             nn.init.normal_(module.weight, mean=0.0, std=0.02)\n",
    "#             if module.bias is not None:\n",
    "#                 nn.init.zeros_(module.bias)\n",
    "#         elif isinstance(module, nn.Embedding):\n",
    "#             nn.init.normal_(module.weight, mean=0.0, std=0.02)\n",
    "#     def forward(self, idx, targets=None):\n",
    "#         B, T = idx.shape\n",
    "#         tok_emb = self.token_embedding_table(idx)\n",
    "#         pos_emb = self.position_embedding_table(torch.arange(T, device=device))\n",
    "#         x = tok_emb + pos_emb\n",
    "#         x = self.blocks(x)\n",
    "#         x = self.ln_f(x)\n",
    "#         logits = self.lm_head(x)\n",
    "#         loss = None\n",
    "#         if targets is not None:\n",
    "#             B, T, C = logits.shape\n",
    "#             logits = logits.view(B*T, C)\n",
    "#             targets= targets.view(B*T)\n",
    "#             loss   = F.cross_entropy(logits, targets)\n",
    "#         return logits, loss\n",
    "#     def generate(self, idx, max_new_tokens):\n",
    "#         for _ in range(max_new_tokens):\n",
    "#             idx_cond = idx[:, -block_size:]\n",
    "#             logits, _= self(idx_cond)\n",
    "#             logits = logits[:, -1, :]\n",
    "#             probs  = F.softmax(logits, dim=-1)\n",
    "#             idx_next = torch.multinomial(probs, num_samples=1)\n",
    "#             idx = torch.cat((idx, idx_next), dim=1)\n",
    "#         return idx\n",
    "\n",
    "# # ------------------ Incremental Training Pipeline ------------------\n",
    "# import matplotlib.pyplot as plt\n",
    "\n",
    "# def incremental_training_pipeline(level_texts, model, checkpoint_dir=\"checkpoints\"):\n",
    "#     os.makedirs(checkpoint_dir, exist_ok=True)\n",
    "\n",
    "#     # Store metrics for plotting\n",
    "#     all_metrics = {\n",
    "#         \"level\": [],\n",
    "#         \"iters\": [],\n",
    "#         \"train_loss\": [],\n",
    "#         \"val_loss\": [],\n",
    "#         \"train_ppl\": [],\n",
    "#         \"val_ppl\": [],\n",
    "#     }\n",
    "\n",
    "#     for level_i, level_text in enumerate(level_texts, start=1):\n",
    "#         print(f\"\\n=== LEVEL {level_i} TRAINING ===\")\n",
    "#         data_ids   = torch.tensor(encode(level_text), dtype=torch.long).to(device)\n",
    "#         n          = int(0.9 * data_ids.size(0))\n",
    "#         train_data = data_ids[:n]\n",
    "#         val_data   = data_ids[n:]\n",
    "\n",
    "#         optimizer = torch.optim.AdamW(model.parameters(), lr=learning_rate)\n",
    "#         for it in range(max_iters):\n",
    "#             if it % eval_interval == 0:\n",
    "#                 losses = estimate_loss_transformer(model, train_data, val_data)\n",
    "#                 ppl_train = compute_perplexity(losses['train'])\n",
    "#                 ppl_val   = compute_perplexity(losses['val'])\n",
    "\n",
    "#                 # Store for later plotting\n",
    "#                 all_metrics[\"level\"].append(level_i)\n",
    "#                 all_metrics[\"iters\"].append(it)\n",
    "#                 all_metrics[\"train_loss\"].append(losses['train'])\n",
    "#                 all_metrics[\"val_loss\"].append(losses['val'])\n",
    "#                 all_metrics[\"train_ppl\"].append(ppl_train.item())\n",
    "#                 all_metrics[\"val_ppl\"].append(ppl_val.item())\n",
    "\n",
    "#                 print(f\" it={it:4d} | train loss {losses['train']:.4f}  ppl {ppl_train:.2f}  | \"\n",
    "#                       f\"val loss {losses['val']:.4f}  ppl {ppl_val:.2f}\")\n",
    "\n",
    "#             xb, yb = get_batch_transformer(train_data)\n",
    "#             logits, loss = model(xb, yb)\n",
    "#             optimizer.zero_grad(set_to_none=True)\n",
    "#             loss.backward()\n",
    "#             optimizer.step()\n",
    "\n",
    "#         # final evaluation\n",
    "#         losses = estimate_loss_transformer(model, train_data, val_data)\n",
    "#         ppl_train = compute_perplexity(losses['train'])\n",
    "#         ppl_val   = compute_perplexity(losses['val'])\n",
    "\n",
    "#         print(f\"\\n*** Level {level_i} complete.\")\n",
    "#         print(f\"    Final train loss {losses['train']:.4f}, ppl {ppl_train:.2f}\")\n",
    "#         print(f\"    Final   val loss {losses['val']:.4f}, ppl {ppl_val:.2f}\")\n",
    "\n",
    "#         # sample generation\n",
    "#         context = torch.zeros((1,1), dtype=torch.long, device=device)\n",
    "#         sample_ids = model.generate(context, max_new_tokens=500)[0].tolist()\n",
    "#         print(\"    Sample:\", decode(sample_ids))\n",
    "\n",
    "#         # save checkpoint\n",
    "#         cp = os.path.join(checkpoint_dir, f\"model_level{level_i}.pt\")\n",
    "#         torch.save(model.state_dict(), cp)\n",
    "#         print(f\"    → Saved checkpoint: {cp}\")\n",
    "\n",
    "#     return model, all_metrics\n",
    "\n",
    "\n",
    "# # ------------------ Usage ------------------\n",
    "# # Make sure: L1, L2, L3, L4_cleaned are already in your notebook\n",
    "# level_texts = [L1_cleaned, L2_cleaned, L3_cleaned, L4_cleaned]\n",
    "\n",
    "# # 'vocab_size' must match your BPE final vocabulary size (e.g. 276)\n",
    "# vocab_size = tokenizer.get_vocab_size()\n",
    "# model = GPTLanguageModel(vocab_size).to(device)\n",
    "\n",
    "# model,all_metrics = incremental_training_pipeline(level_texts, model)\n"
   ],
   "outputs": [],
   "execution_count": 20
  },
  {
   "cell_type": "code",
   "metadata": {
    "ExecuteTime": {
     "end_time": "2025-05-16T07:26:31.298482Z",
     "start_time": "2025-05-16T07:26:31.296428Z"
    }
   },
   "source": [
    "for i, level in enumerate(level_texts, start=1):\n",
    "    D = len(level)\n",
    "    total_tokens_seen = Config.block_size * Config.batch_size * Config.max_iters\n",
    "    epochs = total_tokens_seen / D\n",
    "    print(f\"Total Epochs for Level {i}: {epochs:.4f}\")\n",
    "\n"
   ],
   "outputs": [
    {
     "name": "stdout",
     "output_type": "stream",
     "text": [
      "Total Epochs for Level 1: 0.0024\n",
      "Total Epochs for Level 2: 0.0024\n",
      "Total Epochs for Level 3: 0.0024\n",
      "Total Epochs for Level 4: 0.0025\n"
     ]
    }
   ],
   "execution_count": 21
  },
  {
   "cell_type": "code",
   "metadata": {
    "ExecuteTime": {
     "end_time": "2025-05-16T07:26:34.086116Z",
     "start_time": "2025-05-16T07:26:34.084414Z"
    }
   },
   "source": [
    "# # For Shakespeare input prompt\n",
    "# # # Example Shakespearean prompt\n",
    "# prompt = \"Who is the President of USA \"\n",
    "\n",
    "# # # Encode the prompt using your trained BPE tokenizer\n",
    "# encoded = encode(prompt)\n",
    "\n",
    "# # # Truncate if the prompt is longer than block_size\n",
    "# if len(encoded) > block_size:\n",
    "#     encoded = encoded[-block_size:]\n",
    "\n",
    "# # # Create context tensor\n",
    "# context = torch.tensor([encoded], dtype=torch.long, device=device)\n",
    "\n",
    "# # # Generate continuation\n",
    "# generated_ids = model.generate(context, max_new_tokens=1000)[0].tolist()\n",
    "\n",
    "# # # Decode and print the generated text\n",
    "# print(decode(generated_ids))"
   ],
   "outputs": [],
   "execution_count": 22
  },
  {
   "cell_type": "code",
   "metadata": {
    "ExecuteTime": {
     "end_time": "2025-05-16T07:26:36.034358Z",
     "start_time": "2025-05-16T07:26:35.474239Z"
    }
   },
   "source": [
    "import matplotlib.pyplot as plt\n",
    "\n",
    "def plot_metrics(all_metrics):\n",
    "    levels = sorted(set(all_metrics[\"level\"]))\n",
    "    for level in levels:\n",
    "        # Get indices for this level\n",
    "        idxs = [i for i, l in enumerate(all_metrics[\"level\"]) if l == level]\n",
    "        iters = [all_metrics[\"iters\"][i] for i in idxs]\n",
    "        val_loss = [all_metrics[\"val_loss\"][i] for i in idxs]\n",
    "        val_ppl  = [all_metrics[\"val_ppl\"][i] for i in idxs]\n",
    "\n",
    "        # Create figure and first y-axis (for loss)\n",
    "        fig, ax1 = plt.subplots(figsize=(10, 5))\n",
    "        ax1.plot(iters, val_loss, color='blue', label='Validation Loss')\n",
    "        ax1.set_xlabel('Iterations')\n",
    "        ax1.set_ylabel('Validation Loss', color='blue')\n",
    "        ax1.tick_params(axis='y', labelcolor='blue')\n",
    "\n",
    "        # Second y-axis for perplexity\n",
    "        ax2 = ax1.twinx()\n",
    "        ax2.plot(iters, val_ppl, color='green', label='Validation Perplexity')\n",
    "        ax2.set_ylabel('Validation Perplexity', color='green')\n",
    "        ax2.tick_params(axis='y', labelcolor='green')\n",
    "\n",
    "        plt.title(f'Level {level} - Validation Loss & Perplexity')\n",
    "        fig.tight_layout()\n",
    "        plt.grid(True)\n",
    "        plt.show()\n"
   ],
   "outputs": [],
   "execution_count": 23
  },
  {
   "cell_type": "code",
   "metadata": {
    "scrolled": true,
    "ExecuteTime": {
     "end_time": "2025-05-16T07:26:36.466688Z",
     "start_time": "2025-05-16T07:26:36.038519Z"
    }
   },
   "source": [
    "plot_metrics(all_metrics)"
   ],
   "outputs": [
    {
     "data": {
      "text/plain": [
       "<Figure size 1000x500 with 2 Axes>"
      ],
      "image/png": "[encoded data removed]"
     },
     "metadata": {},
     "output_type": "display_data"
    },
    {
     "data": {
      "text/plain": [
       "<Figure size 1000x500 with 2 Axes>"
      ],
      "image/png": "[encoded data removed]"
     },
     "metadata": {},
     "output_type": "display_data"
    },
    {
     "data": {
      "text/plain": [
       "<Figure size 1000x500 with 2 Axes>"
      ],
      "image/png": "[encoded data removed]"
     },
     "metadata": {},
     "output_type": "display_data"
    },
    {
     "data": {
      "text/plain": [
       "<Figure size 1000x500 with 2 Axes>"
      ],
      "image/png": "[encoded data removed]"
     },
     "metadata": {},
     "output_type": "display_data"
    }
   ],
   "execution_count": 24
  },
  {
   "cell_type": "code",
   "metadata": {
    "ExecuteTime": {
     "end_time": "2025-05-16T07:26:39.457714Z",
     "start_time": "2025-05-16T07:26:39.455959Z"
    }
   },
   "source": [
    "# BASE_DIR = os.path.dirname(os.path.dirname(os.path.abspath(__file__)))\n",
    "BASE_DIR = os.path.dirname(os.getcwd())"
   ],
   "outputs": [],
   "execution_count": 25
  },
  {
   "cell_type": "code",
   "metadata": {
    "ExecuteTime": {
     "end_time": "2025-05-16T07:26:40.926376Z",
     "start_time": "2025-05-16T07:26:40.897493Z"
    }
   },
   "source": [
    "import joblib\n",
    "\n",
    "# joblib.dump(model, '../Joblibs/transformer.joblib')\n",
    "joblib.dump(model, os.path.join(BASE_DIR, 'Joblibs', 'transformer.joblib'))\n",
    "\n"
   ],
   "outputs": [
    {
     "data": {
      "text/plain": [
       "['/Users/prakhar_patil/Desktop/SPE_Proj/TransformerMS/Joblibs/transformer.joblib']"
      ]
     },
     "execution_count": 26,
     "metadata": {},
     "output_type": "execute_result"
    }
   ],
   "execution_count": 26
  },
  {
   "cell_type": "code",
   "metadata": {
    "ExecuteTime": {
     "end_time": "2025-05-16T07:30:48.890933Z",
     "start_time": "2025-05-16T07:30:48.803628Z"
    }
   },
   "source": [
    "   # Save final model\n",
    "# vocab_size = tokenizer.get_vocab()\n",
    "torch.save({\n",
    "    'model_state_dict': model.state_dict(),\n",
    "    'config': {\n",
    "        'vocab_size': Config.vocab_size,\n",
    "        'block_size': Config.block_size,\n",
    "        'n_embd': Config.n_embd,\n",
    "        'n_head': Config.n_head,\n",
    "        'n_layer': Config.n_layer,\n",
    "        'dropout': Config.dropout\n",
    "    }\n",
    "}, os.path.join(BASE_DIR, 'Joblibs', 'gpt_model.pth'))"
   ],
   "outputs": [],
   "execution_count": 36
  },
  {
   "cell_type": "code",
   "metadata": {
    "ExecuteTime": {
     "end_time": "2025-05-16T07:30:52.047741Z",
     "start_time": "2025-05-16T07:30:52.038907Z"
    }
   },
   "source": [
    "joblib.dump(tokenizer, os.path.join(BASE_DIR, 'Joblibs', 'tokenizer.joblib'))"
   ],
   "outputs": [
    {
     "data": {
      "text/plain": [
       "['/Users/prakhar_patil/Desktop/SPE_Proj/TransformerMS/Joblibs/tokenizer.joblib']"
      ]
     },
     "execution_count": 37,
     "metadata": {},
     "output_type": "execute_result"
    }
   ],
   "execution_count": 37
  },
  {
   "cell_type": "code",
   "metadata": {
    "ExecuteTime": {
     "end_time": "2025-05-16T07:30:53.840625Z",
     "start_time": "2025-05-16T07:30:53.836778Z"
    }
   },
   "source": "print(\"Tokenizer vocab size:\", len(tokenizer.get_vocab()))\n",
   "outputs": [
    {
     "name": "stdout",
     "output_type": "stream",
     "text": [
      "Tokenizer vocab size: 2000\n"
     ]
    }
   ],
   "execution_count": 38
  },
  {
   "metadata": {
    "ExecuteTime": {
     "end_time": "2025-05-16T07:30:53.856926Z",
     "start_time": "2025-05-16T07:30:53.854699Z"
    }
   },
   "cell_type": "code",
   "source": [
    "print(\"Model vocab size:\", model.token_embedding_table.num_embeddings)\n",
    "\n"
   ],
   "outputs": [
    {
     "name": "stdout",
     "output_type": "stream",
     "text": [
      "Model vocab size: 2000\n"
     ]
    }
   ],
   "execution_count": 39
  },
  {
   "metadata": {
    "ExecuteTime": {
     "end_time": "2025-05-16T07:30:55.481950Z",
     "start_time": "2025-05-16T07:30:55.466214Z"
    }
   },
   "cell_type": "code",
   "source": [
    "import torch\n",
    "\n",
    "# Replace this path with the actual path to your .pth file\n",
    "checkpoint_path = '/Users/prakhar_patil/Desktop/SPE_Proj/TransformerMS/Joblibs/gpt_model.pth'\n",
    "\n",
    "# Load checkpoint\n",
    "checkpoint = torch.load(checkpoint_path, map_location='cpu')  # or 'cuda' if using GPU\n"
   ],
   "outputs": [],
   "execution_count": 40
  },
  {
   "metadata": {
    "ExecuteTime": {
     "end_time": "2025-05-16T07:30:56.972651Z",
     "start_time": "2025-05-16T07:30:56.965705Z"
    }
   },
   "cell_type": "code",
   "source": "model.load_state_dict(checkpoint['model_state_dict'])\n",
   "outputs": [
    {
     "data": {
      "text/plain": [
       "<All keys matched successfully>"
      ]
     },
     "execution_count": 41,
     "metadata": {},
     "output_type": "execute_result"
    }
   ],
   "execution_count": 41
  },
  {
   "metadata": {
    "ExecuteTime": {
     "end_time": "2025-05-16T07:30:59.832101Z",
     "start_time": "2025-05-16T07:30:59.821505Z"
    }
   },
   "cell_type": "code",
   "source": [
    "import joblib\n",
    "tokenizer = joblib.load('../Joblibs/tokenizer.joblib')\n",
    "print(\"Tokenizer vocab size:\", len(tokenizer.get_vocab()))\n"
   ],
   "outputs": [
    {
     "name": "stdout",
     "output_type": "stream",
     "text": [
      "Tokenizer vocab size: 2000\n"
     ]
    }
   ],
   "execution_count": 42
  },
  {
   "metadata": {
    "ExecuteTime": {
     "end_time": "2025-05-16T07:31:01.311607Z",
     "start_time": "2025-05-16T07:31:01.302308Z"
    }
   },
   "cell_type": "code",
   "source": [
    "import torch\n",
    "checkpoint = torch.load('../Joblibs/gpt_model.pth', map_location='cpu')\n",
    "model_vocab_size = checkpoint['config']['vocab_size']\n",
    "print(\"Model vocab size in checkpoint:\", model_vocab_size)\n"
   ],
   "outputs": [
    {
     "name": "stdout",
     "output_type": "stream",
     "text": [
      "Model vocab size in checkpoint: 2000\n"
     ]
    }
   ],
   "execution_count": 43
  },
  {
   "metadata": {
    "ExecuteTime": {
     "end_time": "2025-05-16T07:31:01.492362Z",
     "start_time": "2025-05-16T07:31:01.431008Z"
    }
   },
   "cell_type": "code",
   "source": "print(\"Model vocab size in checkpoint:\", len(model_vocab_size))\n",
   "outputs": [
    {
     "ename": "TypeError",
     "evalue": "object of type 'int' has no len()",
     "output_type": "error",
     "traceback": [
      "\u001B[0;31m---------------------------------------------------------------------------\u001B[0m",
      "\u001B[0;31mTypeError\u001B[0m                                 Traceback (most recent call last)",
      "Cell \u001B[0;32mIn[44], line 1\u001B[0m\n\u001B[0;32m----> 1\u001B[0m \u001B[38;5;28mprint\u001B[39m(\u001B[38;5;124m\"\u001B[39m\u001B[38;5;124mModel vocab size in checkpoint:\u001B[39m\u001B[38;5;124m\"\u001B[39m, \u001B[38;5;28mlen\u001B[39m(model_vocab_size))\n",
      "\u001B[0;31mTypeError\u001B[0m: object of type 'int' has no len()"
     ]
    }
   ],
   "execution_count": 44
  },
  {
   "metadata": {
    "ExecuteTime": {
     "end_time": "2025-05-16T07:26:53.065549Z",
     "start_time": "2025-05-16T06:50:07.789616Z"
    }
   },
   "cell_type": "code",
   "source": "",
   "outputs": [],
   "execution_count": null
  },
  {
   "metadata": {},
   "cell_type": "code",
   "outputs": [],
   "execution_count": null,
   "source": ""
  }
 ],
 "metadata": {
  "kaggle": {
   "accelerator": "nvidiaTeslaT4",
   "dataSources": [
    {
     "datasetId": 7165480,
     "sourceId": 11438992,
     "sourceType": "datasetVersion"
    },
    {
     "datasetId": 7212951,
     "sourceId": 11504366,
     "sourceType": "datasetVersion"
    },
    {
     "datasetId": 7213450,
     "sourceId": 11504999,
     "sourceType": "datasetVersion"
    }
   ],
   "dockerImageVersionId": 31011,
   "isGpuEnabled": true,
   "isInternetEnabled": true,
   "language": "python",
   "sourceType": "notebook"
  },
  "kernelspec": {
   "display_name": "Python 3 (ipykernel)",
   "language": "python",
   "name": "python3"
  },
  "language_info": {
   "codemirror_mode": {
    "name": "ipython",
    "version": 3
   },
   "file_extension": ".py",
   "mimetype": "text/x-python",
   "name": "python",
   "nbconvert_exporter": "python",
   "pygments_lexer": "ipython3",
   "version": "3.12.9"
  }
 },
 "nbformat": 4,
 "nbformat_minor": 4
}
